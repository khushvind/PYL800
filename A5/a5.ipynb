{
 "cells": [
  {
   "cell_type": "markdown",
   "metadata": {},
   "source": [
    "## Import Python Libraries"
   ]
  },
  {
   "cell_type": "code",
   "execution_count": 1,
   "metadata": {},
   "outputs": [],
   "source": [
    "import matplotlib.pyplot as plt\n",
    "import numpy as np\n",
    "import sympy as sp"
   ]
  },
  {
   "cell_type": "markdown",
   "metadata": {},
   "source": [
    "# Mid-Point Rule"
   ]
  },
  {
   "cell_type": "markdown",
   "metadata": {},
   "source": [
    "### a) Integral of sin(x) from 0 to pi"
   ]
  },
  {
   "cell_type": "code",
   "execution_count": 2,
   "metadata": {},
   "outputs": [
    {
     "name": "stdout",
     "output_type": "stream",
     "text": [
      "Approximated integral using midpoint method: 2.006813453956884\n",
      "Exact integral value: 2.00000000000000\n",
      "Absolute error: 0.00681345395688382\n"
     ]
    }
   ],
   "source": [
    "a = 0\n",
    "b = np.pi\n",
    "\n",
    "n = 11\n",
    "\n",
    "h = (b - a) / n\n",
    "\n",
    "I_midpoint = 0\n",
    "\n",
    "for i in range(n):\n",
    "    x_mid = a + (i + 0.5) * h\n",
    "    I_midpoint += h * np.sin(x_mid)\n",
    "\n",
    "x = sp.Symbol('x')\n",
    "f_x = sp.sin(x)\n",
    "integral_result = sp.integrate(f_x, (x, 0, sp.pi))\n",
    "I_exact = integral_result.evalf()\n",
    "\n",
    "# Compare the results\n",
    "error = abs(I_midpoint - I_exact)\n",
    "print(\"Approximated integral using midpoint method:\", I_midpoint)\n",
    "print(\"Exact integral value:\", I_exact)\n",
    "print(\"Absolute error:\", error)\n"
   ]
  },
  {
   "cell_type": "markdown",
   "metadata": {},
   "source": [
    "### b) Integral of exp(-x^2) from -1 to 1\n"
   ]
  },
  {
   "cell_type": "code",
   "execution_count": 3,
   "metadata": {},
   "outputs": [
    {
     "name": "stdout",
     "output_type": "stream",
     "text": [
      "Approximated integral using midpoint method: 1.4956790510368254\n",
      "Exact integral value: 1.49364826562485\n",
      "Absolute error: 0.00203078541197144\n"
     ]
    }
   ],
   "source": [
    "a = -1\n",
    "b = 1\n",
    "\n",
    "n = 11\n",
    "\n",
    "h = (b - a) / n\n",
    "\n",
    "I_midpoint = 0\n",
    "\n",
    "for i in range(n):\n",
    "    x_mid = a + (i + 0.5) * h\n",
    "    I_midpoint += h * np.exp(-x_mid**2)\n",
    "\n",
    "x = sp.Symbol('x')\n",
    "f_x = sp.exp(-x**2)\n",
    "integral_result = sp.integrate(f_x, (x, -1, 1))\n",
    "I_exact = integral_result.evalf()\n",
    "\n",
    "# Compare the results\n",
    "error = abs(I_midpoint - I_exact)\n",
    "print(\"Approximated integral using midpoint method:\", I_midpoint)\n",
    "print(\"Exact integral value:\", I_exact)\n",
    "print(\"Absolute error:\", error)\n"
   ]
  },
  {
   "cell_type": "markdown",
   "metadata": {},
   "source": [
    "### c) Integral of exp(-x^2) from 0 to 2\n"
   ]
  },
  {
   "cell_type": "code",
   "execution_count": 4,
   "metadata": {},
   "outputs": [
    {
     "name": "stdout",
     "output_type": "stream",
     "text": [
      "Approximated integral using midpoint method: 0.8821813301040075\n",
      "Exact integral value: 0.882081390762422\n",
      "Absolute error: 9.99393415858085e-5\n"
     ]
    }
   ],
   "source": [
    "a = 0\n",
    "b = 2\n",
    "\n",
    "n = 11\n",
    "\n",
    "h = (b - a) / n\n",
    "\n",
    "I_midpoint = 0\n",
    "\n",
    "for i in range(n):\n",
    "    x_mid = a + (i + 0.5) * h\n",
    "    I_midpoint += h * np.exp(-x_mid**2)\n",
    "\n",
    "x = sp.Symbol('x')\n",
    "f_x = sp.exp(-x**2)\n",
    "integral_result = sp.integrate(f_x, (x, 0, 2))\n",
    "I_exact = integral_result.evalf()\n",
    "\n",
    "# Compare the results\n",
    "error = abs(I_midpoint - I_exact)\n",
    "print(\"Approximated integral using midpoint method:\", I_midpoint)\n",
    "print(\"Exact integral value:\", I_exact)\n",
    "print(\"Absolute error:\", error)\n"
   ]
  },
  {
   "cell_type": "markdown",
   "metadata": {},
   "source": [
    "# Simpson's Rule"
   ]
  },
  {
   "cell_type": "markdown",
   "metadata": {},
   "source": [
    "### a) Integral of sin(x) from 0 to pi\n"
   ]
  },
  {
   "cell_type": "code",
   "execution_count": 5,
   "metadata": {},
   "outputs": [
    {
     "name": "stdout",
     "output_type": "stream",
     "text": [
      "Approximated integral using Simpson's 1/3 rule: 2.0001095173150043\n",
      "Exact integral value: 2.00000000000000\n",
      "Absolute error: 0.000109517315004304\n"
     ]
    }
   ],
   "source": [
    "def f(x):\n",
    "    return np.sin(x)\n",
    "\n",
    "a = 0\n",
    "b = np.pi\n",
    "\n",
    "n = 10 \n",
    "\n",
    "h = (b - a) / n\n",
    "\n",
    "x_values = np.linspace(a, b, n+1)\n",
    "y_values = f(x_values)\n",
    "\n",
    "# Apply Simpson's 1/3 rule\n",
    "I_simpson = (h / 3) * (y_values[0] + 4 * np.sum(y_values[1:-1:2]) + 2 * np.sum(y_values[2:-2:2]) + y_values[-1])\n",
    "\n",
    "x = sp.Symbol('x')\n",
    "f_x = sp.sin(x)\n",
    "integral_result = sp.integrate(f_x, (x, 0, np.pi))\n",
    "I_exact = integral_result.evalf()\n",
    "\n",
    "# Calculate the absolute error\n",
    "error = abs(I_simpson - I_exact)\n",
    "\n",
    "print(\"Approximated integral using Simpson's 1/3 rule:\", I_simpson)\n",
    "print(\"Exact integral value:\", I_exact)\n",
    "print(\"Absolute error:\", error)"
   ]
  },
  {
   "cell_type": "markdown",
   "metadata": {},
   "source": [
    "### b) Integral of exp(-x^2) from -1 to 1\n"
   ]
  },
  {
   "cell_type": "code",
   "execution_count": 6,
   "metadata": {},
   "outputs": [
    {
     "name": "stdout",
     "output_type": "stream",
     "text": [
      "Approximated integral using Simpson's 1/3 rule: 1.493674109820692\n",
      "Exact integral value: 1.49364826562485\n",
      "Absolute error: 2.58441958380651e-5\n"
     ]
    }
   ],
   "source": [
    "def g(x):\n",
    "    return np.exp(-x**2)\n",
    "\n",
    "a = -1\n",
    "b = 1\n",
    "\n",
    "n = 10\n",
    "\n",
    "h = (b - a) / n\n",
    "\n",
    "x_values = np.linspace(a, b, n+1)\n",
    "y_values = g(x_values)\n",
    "\n",
    "# Apply Simpson's 1/3 rule\n",
    "I_simpson = (h / 3) * (y_values[0] + 4 * np.sum(y_values[1:-1:2]) + 2 * np.sum(y_values[2:-2:2]) + y_values[-1])\n",
    "\n",
    "x = sp.Symbol('x')\n",
    "f_x = sp.exp(-x**2)\n",
    "integral_result = sp.integrate(f_x, (x, a, b))\n",
    "I_exact = integral_result.evalf()\n",
    "\n",
    "# Calculate the absolute error\n",
    "error = abs(I_simpson - I_exact)\n",
    "\n",
    "print(\"Approximated integral using Simpson's 1/3 rule:\", I_simpson)\n",
    "print(\"Exact integral value:\", I_exact)\n",
    "print(\"Absolute error:\", error)\n"
   ]
  },
  {
   "cell_type": "markdown",
   "metadata": {},
   "source": [
    "### c) Integral of exp(-x^2) from 0 to 2\n"
   ]
  },
  {
   "cell_type": "code",
   "execution_count": 7,
   "metadata": {},
   "outputs": [
    {
     "name": "stdout",
     "output_type": "stream",
     "text": [
      "Approximated integral using Simpson's 1/3 rule: 0.882074876854494\n",
      "Exact integral value: 0.882081390762422\n",
      "Absolute error: 6.51390792760775e-6\n"
     ]
    }
   ],
   "source": [
    "def g(x):\n",
    "    return np.exp(-x**2)\n",
    "\n",
    "a = 0\n",
    "b = 2\n",
    "\n",
    "n = 10\n",
    "\n",
    "h = (b - a) / n\n",
    "\n",
    "x_values = np.linspace(a, b, n+1)\n",
    "y_values = g(x_values)\n",
    "\n",
    "# Apply Simpson's 1/3 rule\n",
    "I_simpson = (h / 3) * (y_values[0] + 4 * np.sum(y_values[1:-1:2]) + 2 * np.sum(y_values[2:-2:2]) + y_values[-1])\n",
    "\n",
    "x = sp.Symbol('x')\n",
    "f_x = sp.exp(-x**2)\n",
    "integral_result = sp.integrate(f_x, (x, a, b))\n",
    "I_exact = integral_result.evalf()\n",
    "\n",
    "# Calculate the absolute error\n",
    "error = abs(I_simpson - I_exact)\n",
    "\n",
    "print(\"Approximated integral using Simpson's 1/3 rule:\", I_simpson)\n",
    "print(\"Exact integral value:\", I_exact)\n",
    "print(\"Absolute error:\", error)\n"
   ]
  },
  {
   "cell_type": "markdown",
   "metadata": {},
   "source": [
    "# Trapezoidal Rule"
   ]
  },
  {
   "cell_type": "markdown",
   "metadata": {},
   "source": [
    "### a) Integral of sin(x) from 0 to pi\n"
   ]
  },
  {
   "cell_type": "code",
   "execution_count": 8,
   "metadata": {},
   "outputs": [
    {
     "name": "stdout",
     "output_type": "stream",
     "text": [
      "Approximated integral using Trapezoidal Rule: 1.9863869865816575\n",
      "Exact integral value: 2.00000000000000\n",
      "Absolute error: 0.0136130134183425\n"
     ]
    }
   ],
   "source": [
    "def f(x):\n",
    "    return np.sin(x)\n",
    "\n",
    "a = 0\n",
    "b = np.pi\n",
    "\n",
    "n = 11\n",
    "\n",
    "h = (b - a) / n\n",
    "\n",
    "x_values = np.linspace(a, b, n+1)\n",
    "y_values = f(x_values)\n",
    "\n",
    "# Apply the trapezoidal rule\n",
    "I_trapezoidal = (h / 2) * (y_values[0] + 2 * np.sum(y_values[1:n]) + y_values[n])\n",
    "\n",
    "x = sp.Symbol('x')\n",
    "f_x = sp.sin(x)\n",
    "integral_result = sp.integrate(f_x, (x, 0, np.pi))\n",
    "I_exact = integral_result.evalf()\n",
    "\n",
    "# Calculate the absolute error\n",
    "error = abs(I_trapezoidal - I_exact)\n",
    "\n",
    "print(\"Approximated integral using Trapezoidal Rule:\", I_trapezoidal)\n",
    "print(\"Exact integral value:\", I_exact)\n",
    "print(\"Absolute error:\", error)\n"
   ]
  },
  {
   "cell_type": "markdown",
   "metadata": {},
   "source": [
    "### b) Integral of exp(-x^2) from -1 to 1"
   ]
  },
  {
   "cell_type": "code",
   "execution_count": 9,
   "metadata": {},
   "outputs": [
    {
     "name": "stdout",
     "output_type": "stream",
     "text": [
      "Approximated integral using Trapezoidal Rule: 1.489590038091636\n",
      "Exact integral value: 0.886219059172853\n",
      "Absolute error: 0.603370978918783\n"
     ]
    }
   ],
   "source": [
    "def f(x):\n",
    "    return np.exp(-x**2)\n",
    "\n",
    "a = -1\n",
    "b = 1\n",
    "\n",
    "n = 11\n",
    "\n",
    "h = (b - a) / n\n",
    "\n",
    "x_values = np.linspace(a, b, n+1)\n",
    "y_values = f(x_values)\n",
    "\n",
    "# Apply the trapezoidal rule\n",
    "I_trapezoidal = (h / 2) * (y_values[0] + 2 * np.sum(y_values[1:n]) + y_values[n])\n",
    "\n",
    "x = sp.Symbol('x')\n",
    "f_x = sp.exp(-x**2)\n",
    "integral_result = sp.integrate(f_x, (x, 0, np.pi))\n",
    "I_exact = integral_result.evalf()\n",
    "\n",
    "# Calculate the absolute error\n",
    "error = abs(I_trapezoidal - I_exact)\n",
    "\n",
    "print(\"Approximated integral using Trapezoidal Rule:\", I_trapezoidal)\n",
    "print(\"Exact integral value:\", I_exact)\n",
    "print(\"Absolute error:\", error)\n"
   ]
  },
  {
   "cell_type": "markdown",
   "metadata": {},
   "source": [
    "### c) Integral of exp(-x^2) from 0 to 2\n"
   ]
  },
  {
   "cell_type": "code",
   "execution_count": 10,
   "metadata": {},
   "outputs": [
    {
     "name": "stdout",
     "output_type": "stream",
     "text": [
      "Approximated integral using Trapezoidal Rule: 0.8818806778184658\n",
      "Exact integral value: 0.886219059172853\n",
      "Absolute error: 0.00433838135438691\n"
     ]
    }
   ],
   "source": [
    "def f(x):\n",
    "    return np.exp(-x**2)\n",
    "\n",
    "a = 0\n",
    "b = 2\n",
    "\n",
    "n = 11\n",
    "\n",
    "h = (b - a) / n\n",
    "\n",
    "x_values = np.linspace(a, b, n+1)\n",
    "y_values = f(x_values)\n",
    "\n",
    "# Apply the trapezoidal rule\n",
    "I_trapezoidal = (h / 2) * (y_values[0] + 2 * np.sum(y_values[1:n]) + y_values[n])\n",
    "\n",
    "x = sp.Symbol('x')\n",
    "f_x = sp.exp(-x**2)\n",
    "integral_result = sp.integrate(f_x, (x, 0, np.pi))\n",
    "I_exact = integral_result.evalf()\n",
    "\n",
    "# Calculate the absolute error\n",
    "error = abs(I_trapezoidal - I_exact)\n",
    "\n",
    "print(\"Approximated integral using Trapezoidal Rule:\", I_trapezoidal)\n",
    "print(\"Exact integral value:\", I_exact)\n",
    "print(\"Absolute error:\", error)\n"
   ]
  }
 ],
 "metadata": {
  "kernelspec": {
   "display_name": "base",
   "language": "python",
   "name": "python3"
  },
  "language_info": {
   "codemirror_mode": {
    "name": "ipython",
    "version": 3
   },
   "file_extension": ".py",
   "mimetype": "text/x-python",
   "name": "python",
   "nbconvert_exporter": "python",
   "pygments_lexer": "ipython3",
   "version": "3.9.13"
  }
 },
 "nbformat": 4,
 "nbformat_minor": 2
}
